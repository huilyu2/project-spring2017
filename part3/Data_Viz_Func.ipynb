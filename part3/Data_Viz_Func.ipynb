{
 "cells": [
  {
   "cell_type": "code",
   "execution_count": 140,
   "metadata": {
    "collapsed": false
   },
   "outputs": [],
   "source": [
    "import pandas as pd\n",
    "import numpy as np\n",
    "get_ipython().magic('matplotlib inline')\n",
    "import matplotlib.pyplot as plt\n",
    "import os\n",
    "import folium\n",
    "import vincent,json\n",
    "import csv\n",
    "import matplotlib.patches as mpatches\n",
    "import matplotlib.pyplot as plt\n",
    "import seaborn as sns\n",
    "import randomcolor"
   ]
  },
  {
   "cell_type": "code",
   "execution_count": 171,
   "metadata": {
    "collapsed": true
   },
   "outputs": [],
   "source": [
    "def color_match(colors):\n",
    "    cat_color = {}\n",
    "    for i in colors:\n",
    "        clr = randomcolor.RandomColor().generate()\n",
    "        # print(clr[0])\n",
    "        cat_color[i] = clr[0]\n",
    "    return cat_color"
   ]
  },
  {
   "cell_type": "code",
   "execution_count": 166,
   "metadata": {
    "collapsed": true
   },
   "outputs": [],
   "source": [
    "def plot_num1(map, df, name, lat, lon,num1, num2, num3,category,colors):\n",
    "    fg=folium.FeatureGroup(name=num1)\n",
    "    for lat,lon,category,num1,num2,num3,name in zip(df[lat],df[lon],df[category],df[num1],df[num2],df[num3],df[name]):\n",
    "    #make the html click popup\n",
    "        html=\"\"\"\n",
    "    name: {}<br>\n",
    "    num1: {}<br>\n",
    "    num2: {}<br>\n",
    "    num3: {}<br>\n",
    "    category: {}<br>\n",
    "        \"\"\"\n",
    "        html = html.format(name,num1,num2,num3,category)\n",
    "        test = folium.IFrame(html, width=150, height=100)\n",
    "        fg.add_child(folium.CircleMarker(location=[lat,lon],popup=(folium.Popup(test)),radius=num1/10, color=colors.get(category),fill_color=colors.get(category)  )) #,color=Color(category),fill_color=Color(cat)))\n",
    "    map.add_child(fg)"
   ]
  },
  {
   "cell_type": "code",
   "execution_count": 180,
   "metadata": {
    "collapsed": true
   },
   "outputs": [],
   "source": [
    "def plot_num2(map, df, lat, lon, num2, category, group, colors):\n",
    "    \n",
    "    fh=folium.FeatureGroup(name=\"Numeric2 Data,Categories Chart\")\n",
    "    for lat,lon,category,num2 in zip(df[lat],df[lon],df[category],df[num2]):\n",
    "    #make the groupbar chart click popup\n",
    "        popup= folium.Popup(max_width=800)\n",
    "        folium.Vega(group, height=250, width=450).add_to(popup)\n",
    "        fh.add_child(folium.RegularPolygonMarker(location=[lat,lon],popup=popup,radius=num2/10,color=colors.get(category),fill_color=colors.get(category),number_of_sides=3 ))#,color=Color(name),fill_color=Color(name),number_of_sides=3))\n",
    "    map.add_child(fh)"
   ]
  },
  {
   "cell_type": "code",
   "execution_count": 177,
   "metadata": {
    "collapsed": true
   },
   "outputs": [],
   "source": [
    "def plot_num3(map, df, lat, lon, category, num3, lines, colors):\n",
    "    fk=folium.FeatureGroup(name=\"NUM3,Datetime Chart\")\n",
    "    for lat,lon,category,num3 in zip(df[lat],df[lon],df[category],df[num3]):\n",
    "    #make the line chart click popup\n",
    "        popup = folium.Popup(max_width=800)\n",
    "        folium.Vega(lines, height=250, width=450).add_to(popup)\n",
    "        fk.add_child(folium.RegularPolygonMarker(location=[lat,lon],popup=popup,radius=num3/10,color=colors.get(category),fill_color=colors.get(category), number_of_sides=4  ))\n",
    "    map.add_child(fk)"
   ]
  },
  {
   "cell_type": "code",
   "execution_count": 181,
   "metadata": {
    "collapsed": false
   },
   "outputs": [],
   "source": [
    "def data_input():\n",
    "    filename = input(\"Please input the dataset name: \")\n",
    "    name = input(\"Please input the specific column name of 'Name' of your dataset:\")\n",
    "    date = input(\"Please input the specific column name of 'Date' of your dataset:\")\n",
    "    lon = input(\"Please input the specific column name of 'Longitute' of your dataset:\")\n",
    "    lat = input(\"Please input the specific column name of 'Latitue' of your dataset:\")\n",
    "    category = input(\"Please input the specific column name of 'Category' of your dataset:\")\n",
    "    num1 = input(\"Please input the specific 1st column name of 'Numeric' of your dataset:\")\n",
    "    num2 = input(\"Please input the specific 2nd column name of 'Numeric' of your dataset:\")\n",
    "    num3 = input(\"Please input the specific 3rd column name of 'Numeric' of your dataset:\")\n",
    "    \n",
    "#     filename = 'TestData.csv'\n",
    "#     name = 'NAME'\n",
    "#     date = 'DATE'\n",
    "#     lon = 'LON'\n",
    "#     lat = 'LAT'\n",
    "#     category = 'CAT'\n",
    "#     num1 = 'QUANT1'\n",
    "#     num2 = 'QUANT2'\n",
    "#     num3 = 'QUANT3'\n",
    "    \n",
    "    #load the data\n",
    "    df=pd.read_csv(filename)\n",
    "    df.head()\n",
    "    \n",
    "    #make the folium map\n",
    "    map=folium.Map(location=[df[lat].mean(),df[lon].mean()],zoom_start=6,tiles='stamenterrain')\n",
    "    \n",
    "    #make the vincent chart for category \n",
    "    df_group=df.groupby(category)\n",
    "    print(len(df_group))\n",
    "    print(df_group.groups.keys())\n",
    "    colors = color_match(df_group.groups.keys())\n",
    "    \n",
    "    \n",
    "    df_group_sum=df_group[num1,num2,num3].sum()\n",
    "    group=vincent.GroupedBar(df_group_sum,width=350,height=200)\n",
    "    group.legend(title='Numeric data')\n",
    "    group.colors(brew='Pastel1')\n",
    "    group.axis_titles(x='Categories', y='Sum of the NUM1')\n",
    "\n",
    "    #make the vincent line chart for datetime\n",
    "    df_group2=df.groupby(date)\n",
    "    df_group_sum2=df_group2[num1,num2,num3].sum()\n",
    "    lines = vincent.Line(df_group_sum2,width=350,height=200)\n",
    "    lines.scales[0].type = 'ordinal'\n",
    "    lines.axis_titles(x='Datetime', y='Sum of the NUM2')\n",
    "    lines.legend(title='Categories')\n",
    "    \n",
    "    #add quant1 on the map\n",
    "    plot_num1(map, df, name, lat, lon,num1, num2, num3, category, colors)   \n",
    "    \n",
    "    #add quant2 on the map\n",
    "    plot_num2(map, df, lat, lon, num2, category, group, colors)\n",
    "    \n",
    "#     #add quant3 on the map\n",
    "    plot_num3(map, df, lat, lon, category, num3, lines, colors)\n",
    "    \n",
    "#     #add layer contraller\n",
    "    map.add_child(folium.LayerControl())\n",
    "\n",
    "#     #save the map as html file\n",
    "    map.save(outfile='part3map_3.0.html')"
   ]
  },
  {
   "cell_type": "code",
   "execution_count": 3,
   "metadata": {
    "collapsed": false
   },
   "outputs": [
    {
     "name": "stdout",
     "output_type": "stream",
     "text": [
      "/Users/chenyuwei/Desktop\n"
     ]
    }
   ],
   "source": [
    "cd Desktop"
   ]
  },
  {
   "cell_type": "code",
   "execution_count": null,
   "metadata": {
    "collapsed": true
   },
   "outputs": [],
   "source": [
    "# please run this function to start"
   ]
  },
  {
   "cell_type": "code",
   "execution_count": 182,
   "metadata": {
    "collapsed": false
   },
   "outputs": [
    {
     "name": "stdout",
     "output_type": "stream",
     "text": [
      "3\n",
      "dict_keys(['C2', 'C3', 'C1'])\n",
      "#d36945\n",
      "#72bc23\n",
      "#83fcd6\n"
     ]
    }
   ],
   "source": [
    "data_input()"
   ]
  }
 ],
 "metadata": {
  "anaconda-cloud": {},
  "kernelspec": {
   "display_name": "Python [default]",
   "language": "python",
   "name": "python3"
  },
  "language_info": {
   "codemirror_mode": {
    "name": "ipython",
    "version": 3
   },
   "file_extension": ".py",
   "mimetype": "text/x-python",
   "name": "python",
   "nbconvert_exporter": "python",
   "pygments_lexer": "ipython3",
   "version": "3.5.2"
  }
 },
 "nbformat": 4,
 "nbformat_minor": 1
}
