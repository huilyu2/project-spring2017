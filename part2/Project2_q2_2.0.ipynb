{
 "cells": [
  {
   "cell_type": "code",
   "execution_count": 1,
   "metadata": {
    "collapsed": true
   },
   "outputs": [],
   "source": [
    "import plotly.plotly as py"
   ]
  },
  {
   "cell_type": "code",
   "execution_count": 2,
   "metadata": {
    "collapsed": true
   },
   "outputs": [],
   "source": [
    "import pandas as pd"
   ]
  },
  {
   "cell_type": "code",
   "execution_count": 3,
   "metadata": {
    "collapsed": false
   },
   "outputs": [],
   "source": [
    "df = pd.read_csv('/Users/yiling10/Downloads/Administrative_Discretionary_Grants_Dataset.csv')"
   ]
  },
  {
   "cell_type": "code",
   "execution_count": 4,
   "metadata": {
    "collapsed": false
   },
   "outputs": [
    {
     "data": {
      "text/html": [
       "<div>\n",
       "<table border=\"1\" class=\"dataframe\">\n",
       "  <thead>\n",
       "    <tr style=\"text-align: right;\">\n",
       "      <th></th>\n",
       "      <th>﻿Log Number</th>\n",
       "      <th>Institution</th>\n",
       "      <th>Program</th>\n",
       "      <th>Program Type</th>\n",
       "      <th>Project Title</th>\n",
       "      <th>Project Type</th>\n",
       "      <th>Award Date</th>\n",
       "      <th>Address</th>\n",
       "      <th>Address 2</th>\n",
       "      <th>Address 3</th>\n",
       "      <th>...</th>\n",
       "      <th>County Code</th>\n",
       "      <th>Census Tract</th>\n",
       "      <th>Census Block</th>\n",
       "      <th>MCD Code</th>\n",
       "      <th>Place Code</th>\n",
       "      <th>CBSA Code</th>\n",
       "      <th>MSAD Code</th>\n",
       "      <th>Description</th>\n",
       "      <th>Location</th>\n",
       "      <th>Organizational Unit Location</th>\n",
       "    </tr>\n",
       "  </thead>\n",
       "  <tbody>\n",
       "    <tr>\n",
       "      <th>0</th>\n",
       "      <td>IM-01-02-0010-02</td>\n",
       "      <td>Fire Museum of Maryland</td>\n",
       "      <td>Museum Assessment Program</td>\n",
       "      <td>IM</td>\n",
       "      <td>NaN</td>\n",
       "      <td>Institutional</td>\n",
       "      <td>3/27/02 0:00</td>\n",
       "      <td>1301 York Road</td>\n",
       "      <td>NaN</td>\n",
       "      <td>NaN</td>\n",
       "      <td>...</td>\n",
       "      <td>5.0</td>\n",
       "      <td>408703.0</td>\n",
       "      <td>2001.0</td>\n",
       "      <td>90656.0</td>\n",
       "      <td>51587.0</td>\n",
       "      <td>12580.0</td>\n",
       "      <td>NaN</td>\n",
       "      <td>NaN</td>\n",
       "      <td>1301 York Road\\rLutherville, MD 21093\\r(39.417...</td>\n",
       "      <td>NaN</td>\n",
       "    </tr>\n",
       "    <tr>\n",
       "      <th>1</th>\n",
       "      <td>IM-01-03-0032-03</td>\n",
       "      <td>Loxahatchee River Historical Museum</td>\n",
       "      <td>Museum Assessment Program</td>\n",
       "      <td>IM</td>\n",
       "      <td>NaN</td>\n",
       "      <td>Institutional</td>\n",
       "      <td>38020</td>\n",
       "      <td>805 North U.S. Highway 1</td>\n",
       "      <td>NaN</td>\n",
       "      <td>NaN</td>\n",
       "      <td>...</td>\n",
       "      <td>99.0</td>\n",
       "      <td>408.0</td>\n",
       "      <td>2003.0</td>\n",
       "      <td>91690.0</td>\n",
       "      <td>35875.0</td>\n",
       "      <td>33100.0</td>\n",
       "      <td>48424.0</td>\n",
       "      <td>NaN</td>\n",
       "      <td>805 North U.S. Highway 1\\rJupiter, FL 33477\\r(...</td>\n",
       "      <td>NaN</td>\n",
       "    </tr>\n",
       "    <tr>\n",
       "      <th>2</th>\n",
       "      <td>LL-30-99-0194-99</td>\n",
       "      <td>Museum of Science and Industry, Chicago</td>\n",
       "      <td>National Leadership Grants (LL)</td>\n",
       "      <td>LL</td>\n",
       "      <td>NaN</td>\n",
       "      <td>NLG LMC</td>\n",
       "      <td>7/12/99 0:00</td>\n",
       "      <td>57th Street and Lake Shore Drive</td>\n",
       "      <td>NaN</td>\n",
       "      <td>NaN</td>\n",
       "      <td>...</td>\n",
       "      <td>31.0</td>\n",
       "      <td>411000.0</td>\n",
       "      <td>1008.0</td>\n",
       "      <td>14000.0</td>\n",
       "      <td>14000.0</td>\n",
       "      <td>16980.0</td>\n",
       "      <td>16974.0</td>\n",
       "      <td>NaN</td>\n",
       "      <td>57th Street and Lake Shore Drive\\rChicago, IL ...</td>\n",
       "      <td>NaN</td>\n",
       "    </tr>\n",
       "    <tr>\n",
       "      <th>3</th>\n",
       "      <td>IC-22-10-0036-10</td>\n",
       "      <td>County of Delaware</td>\n",
       "      <td>Conservation Program</td>\n",
       "      <td>IC</td>\n",
       "      <td>Collection Storage Improvement</td>\n",
       "      <td>AHPG-Library</td>\n",
       "      <td>2/22/10 0:00</td>\n",
       "      <td>44 Burrer Drive</td>\n",
       "      <td>NaN</td>\n",
       "      <td>NaN</td>\n",
       "      <td>...</td>\n",
       "      <td>41.0</td>\n",
       "      <td>11604.0</td>\n",
       "      <td>2023.0</td>\n",
       "      <td>75620.0</td>\n",
       "      <td>75602.0</td>\n",
       "      <td>18140.0</td>\n",
       "      <td>NaN</td>\n",
       "      <td>The County of Delaware Community Library in Su...</td>\n",
       "      <td>44 Burrer Drive\\rSunbury, OH 43074-9319\\r(40.2...</td>\n",
       "      <td>NaN</td>\n",
       "    </tr>\n",
       "    <tr>\n",
       "      <th>4</th>\n",
       "      <td>IC-21-11-0142-11</td>\n",
       "      <td>Plimoth Plantation</td>\n",
       "      <td>Conservation Program</td>\n",
       "      <td>IC</td>\n",
       "      <td>Rare Book Rehousing Project</td>\n",
       "      <td>AHPG-Museum</td>\n",
       "      <td>37875</td>\n",
       "      <td>P.O. Box 1620</td>\n",
       "      <td>NaN</td>\n",
       "      <td>NaN</td>\n",
       "      <td>...</td>\n",
       "      <td>23.0</td>\n",
       "      <td>530600.0</td>\n",
       "      <td>1040.0</td>\n",
       "      <td>54310.0</td>\n",
       "      <td>NaN</td>\n",
       "      <td>14460.0</td>\n",
       "      <td>14454.0</td>\n",
       "      <td>Plimoth Plantation will re-house the museum's ...</td>\n",
       "      <td>P.O. Box 1620\\rPlymouth, MA 02362-1620\\r</td>\n",
       "      <td>NaN</td>\n",
       "    </tr>\n",
       "  </tbody>\n",
       "</table>\n",
       "<p>5 rows × 39 columns</p>\n",
       "</div>"
      ],
      "text/plain": [
       "        ﻿Log Number                              Institution  \\\n",
       "0  IM-01-02-0010-02                  Fire Museum of Maryland   \n",
       "1  IM-01-03-0032-03      Loxahatchee River Historical Museum   \n",
       "2  LL-30-99-0194-99  Museum of Science and Industry, Chicago   \n",
       "3  IC-22-10-0036-10                       County of Delaware   \n",
       "4  IC-21-11-0142-11                       Plimoth Plantation   \n",
       "\n",
       "                           Program Program Type  \\\n",
       "0        Museum Assessment Program           IM   \n",
       "1        Museum Assessment Program           IM   \n",
       "2  National Leadership Grants (LL)           LL   \n",
       "3             Conservation Program           IC   \n",
       "4             Conservation Program           IC   \n",
       "\n",
       "                    Project Title   Project Type    Award Date  \\\n",
       "0                             NaN  Institutional  3/27/02 0:00   \n",
       "1                             NaN  Institutional         38020   \n",
       "2                             NaN        NLG LMC  7/12/99 0:00   \n",
       "3  Collection Storage Improvement   AHPG-Library  2/22/10 0:00   \n",
       "4     Rare Book Rehousing Project    AHPG-Museum         37875   \n",
       "\n",
       "                            Address Address 2 Address 3  \\\n",
       "0                    1301 York Road       NaN       NaN   \n",
       "1          805 North U.S. Highway 1       NaN       NaN   \n",
       "2  57th Street and Lake Shore Drive       NaN       NaN   \n",
       "3                   44 Burrer Drive       NaN       NaN   \n",
       "4                     P.O. Box 1620       NaN       NaN   \n",
       "\n",
       "              ...              County Code Census Tract Census Block  \\\n",
       "0             ...                      5.0     408703.0       2001.0   \n",
       "1             ...                     99.0        408.0       2003.0   \n",
       "2             ...                     31.0     411000.0       1008.0   \n",
       "3             ...                     41.0      11604.0       2023.0   \n",
       "4             ...                     23.0     530600.0       1040.0   \n",
       "\n",
       "   MCD Code  Place Code  CBSA Code MSAD Code  \\\n",
       "0   90656.0     51587.0    12580.0       NaN   \n",
       "1   91690.0     35875.0    33100.0   48424.0   \n",
       "2   14000.0     14000.0    16980.0   16974.0   \n",
       "3   75620.0     75602.0    18140.0       NaN   \n",
       "4   54310.0         NaN    14460.0   14454.0   \n",
       "\n",
       "                                         Description  \\\n",
       "0                                                NaN   \n",
       "1                                                NaN   \n",
       "2                                                NaN   \n",
       "3  The County of Delaware Community Library in Su...   \n",
       "4  Plimoth Plantation will re-house the museum's ...   \n",
       "\n",
       "                                            Location  \\\n",
       "0  1301 York Road\\rLutherville, MD 21093\\r(39.417...   \n",
       "1  805 North U.S. Highway 1\\rJupiter, FL 33477\\r(...   \n",
       "2  57th Street and Lake Shore Drive\\rChicago, IL ...   \n",
       "3  44 Burrer Drive\\rSunbury, OH 43074-9319\\r(40.2...   \n",
       "4           P.O. Box 1620\\rPlymouth, MA 02362-1620\\r   \n",
       "\n",
       "  Organizational Unit Location  \n",
       "0                          NaN  \n",
       "1                          NaN  \n",
       "2                          NaN  \n",
       "3                          NaN  \n",
       "4                          NaN  \n",
       "\n",
       "[5 rows x 39 columns]"
      ]
     },
     "execution_count": 4,
     "metadata": {},
     "output_type": "execute_result"
    }
   ],
   "source": [
    "df.head()"
   ]
  },
  {
   "cell_type": "code",
   "execution_count": 20,
   "metadata": {
    "collapsed": false,
    "scrolled": true
   },
   "outputs": [],
   "source": [
    "df['text'] = df['Program'] +'<br>'+ 'Total Amount Awarded and Disbursed ' + (df['Total Amount Awarded and Disbursed']/1e3).astype(str)+'thousand'+'<br>'\n",
    "limits = [(0,10),(10,100),(100,200),(200,500),(500,1000),(1000,3000)]\n",
    "colors = [\"lightgrey\",\"rgb(255,65,54)\",\"rgb(133,20,75)\",\"rgb(255,133,27)\",\"#ffb266\",\"rgb(0,116,217)\"]\n",
    "Programs = []\n",
    "scale = 6000\n"
   ]
  },
  {
   "cell_type": "code",
   "execution_count": 21,
   "metadata": {
    "collapsed": false
   },
   "outputs": [],
   "source": [
    "for i in range(len(limits)):\n",
    "    lim = limits[i]\n",
    "    df_sub = df[((df['Total Amount Awarded and Disbursed']/1e3)<limits[i][1])&((df['Total Amount Awarded and Disbursed']/1e3)>limits[i][0])]\n",
    "    program = dict(\n",
    "        type = 'scattergeo',\n",
    "        locationmode = 'USA-states',\n",
    "        lon = df_sub['LNG'],\n",
    "        lat = df_sub['LAT'],\n",
    "        text = df_sub['text'],\n",
    "        marker = dict(\n",
    "            size = df_sub['Total Amount Awarded and Disbursed']/scale,\n",
    "            color = colors[i],\n",
    "            line = dict(width=0.5, color='rgb(40,40,40)'),\n",
    "            sizemode = 'area'\n",
    "        ),\n",
    "        name = '{0} - {1}'.format(limits[i][0],limits[i][1]) )\n",
    "    Programs.append(program)\n",
    "\n",
    "layout = dict(\n",
    "        title = 'Administrative Discretionary Grants<br>(Click legend to toggle traces)',\n",
    "        showlegend = True,\n",
    "        geo = dict(\n",
    "            scope='usa',\n",
    "            projection=dict( type='albers usa' ),\n",
    "            showland = True,\n",
    "            landcolor = 'rgb(217, 217, 217)',\n",
    "            subunitwidth=1,\n",
    "            countrywidth=1,\n",
    "            subunitcolor=\"rgb(255, 255, 255)\",\n",
    "            countrycolor=\"rgb(255, 255, 255)\"\n",
    "        ),\n",
    "    )\n"
   ]
  },
  {
   "cell_type": "code",
   "execution_count": 22,
   "metadata": {
    "collapsed": false,
    "scrolled": true
   },
   "outputs": [
    {
     "data": {
      "text/html": [
       "<iframe id=\"igraph\" scrolling=\"no\" style=\"border:none;\" seamless=\"seamless\" src=\"https://plot.ly/~yuxiangling0809/13.embed\" height=\"525px\" width=\"100%\"></iframe>"
      ],
      "text/plain": [
       "<plotly.tools.PlotlyDisplay object>"
      ]
     },
     "execution_count": 22,
     "metadata": {},
     "output_type": "execute_result"
    }
   ],
   "source": [
    "fig = dict( data=Programs, layout=layout )\n",
    "py.iplot( fig, validate=False, filename='d3-bubble-map-populations' )"
   ]
  },
  {
   "cell_type": "code",
   "execution_count": 4,
   "metadata": {
    "collapsed": false
   },
   "outputs": [
    {
     "ename": "SyntaxError",
     "evalue": "invalid syntax (<ipython-input-4-34013077ebfd>, line 1)",
     "output_type": "error",
     "traceback": [
      "\u001b[0;36m  File \u001b[0;32m\"<ipython-input-4-34013077ebfd>\"\u001b[0;36m, line \u001b[0;32m1\u001b[0m\n\u001b[0;31m    pip install pyzipcode-cli\u001b[0m\n\u001b[0m              ^\u001b[0m\n\u001b[0;31mSyntaxError\u001b[0m\u001b[0;31m:\u001b[0m invalid syntax\n"
     ]
    }
   ],
   "source": []
  },
  {
   "cell_type": "code",
   "execution_count": 5,
   "metadata": {
    "collapsed": false
   },
   "outputs": [
    {
     "ename": "ImportError",
     "evalue": "cannot import name 'ZipCodeDatabase'",
     "output_type": "error",
     "traceback": [
      "\u001b[0;31m---------------------------------------------------------------------------\u001b[0m",
      "\u001b[0;31mImportError\u001b[0m                               Traceback (most recent call last)",
      "\u001b[0;32m<ipython-input-5-30adcccb8e61>\u001b[0m in \u001b[0;36m<module>\u001b[0;34m()\u001b[0m\n\u001b[0;32m----> 1\u001b[0;31m \u001b[0;32mfrom\u001b[0m \u001b[0mpyzipcode\u001b[0m \u001b[0;32mimport\u001b[0m \u001b[0mZipCodeDatabase\u001b[0m\u001b[0;34m\u001b[0m\u001b[0m\n\u001b[0m",
      "\u001b[0;31mImportError\u001b[0m: cannot import name 'ZipCodeDatabase'"
     ]
    }
   ],
   "source": []
  },
  {
   "cell_type": "code",
   "execution_count": 6,
   "metadata": {
    "collapsed": true
   },
   "outputs": [
    {
     "ename": "SyntaxError",
     "evalue": "invalid syntax (<ipython-input-6-32a55c2d7ffe>, line 1)",
     "output_type": "error",
     "traceback": [
      "\u001b[0;36m  File \u001b[0;32m\"<ipython-input-6-32a55c2d7ffe>\"\u001b[0;36m, line \u001b[0;32m1\u001b[0m\n\u001b[0;31m    pip install -i https://pypi.anaconda.org/pypi/simple pyzipcode\u001b[0m\n\u001b[0m              ^\u001b[0m\n\u001b[0;31mSyntaxError\u001b[0m\u001b[0;31m:\u001b[0m invalid syntax\n"
     ]
    }
   ],
   "source": []
  },
  {
   "cell_type": "code",
   "execution_count": 7,
   "metadata": {
    "collapsed": false
   },
   "outputs": [
    {
     "ename": "ImportError",
     "evalue": "cannot import name 'ZipCodeDatabase'",
     "output_type": "error",
     "traceback": [
      "\u001b[0;31m---------------------------------------------------------------------------\u001b[0m",
      "\u001b[0;31mImportError\u001b[0m                               Traceback (most recent call last)",
      "\u001b[0;32m<ipython-input-7-30adcccb8e61>\u001b[0m in \u001b[0;36m<module>\u001b[0;34m()\u001b[0m\n\u001b[0;32m----> 1\u001b[0;31m \u001b[0;32mfrom\u001b[0m \u001b[0mpyzipcode\u001b[0m \u001b[0;32mimport\u001b[0m \u001b[0mZipCodeDatabase\u001b[0m\u001b[0;34m\u001b[0m\u001b[0m\n\u001b[0m",
      "\u001b[0;31mImportError\u001b[0m: cannot import name 'ZipCodeDatabase'"
     ]
    }
   ],
   "source": []
  },
  {
   "cell_type": "code",
   "execution_count": 8,
   "metadata": {
    "collapsed": false
   },
   "outputs": [
    {
     "ename": "ImportError",
     "evalue": "cannot import name 'ZipCodeDatabase'",
     "output_type": "error",
     "traceback": [
      "\u001b[0;31m---------------------------------------------------------------------------\u001b[0m",
      "\u001b[0;31mImportError\u001b[0m                               Traceback (most recent call last)",
      "\u001b[0;32m<ipython-input-8-30adcccb8e61>\u001b[0m in \u001b[0;36m<module>\u001b[0;34m()\u001b[0m\n\u001b[0;32m----> 1\u001b[0;31m \u001b[0;32mfrom\u001b[0m \u001b[0mpyzipcode\u001b[0m \u001b[0;32mimport\u001b[0m \u001b[0mZipCodeDatabase\u001b[0m\u001b[0;34m\u001b[0m\u001b[0m\n\u001b[0m",
      "\u001b[0;31mImportError\u001b[0m: cannot import name 'ZipCodeDatabase'"
     ]
    }
   ],
   "source": []
  },
  {
   "cell_type": "code",
   "execution_count": null,
   "metadata": {
    "collapsed": true
   },
   "outputs": [],
   "source": []
  }
 ],
 "metadata": {
  "anaconda-cloud": {},
  "kernelspec": {
   "display_name": "Python [default]",
   "language": "python",
   "name": "python3"
  },
  "language_info": {
   "codemirror_mode": {
    "name": "ipython",
    "version": 3
   },
   "file_extension": ".py",
   "mimetype": "text/x-python",
   "name": "python",
   "nbconvert_exporter": "python",
   "pygments_lexer": "ipython3",
   "version": "3.5.2"
  }
 },
 "nbformat": 4,
 "nbformat_minor": 1
}
