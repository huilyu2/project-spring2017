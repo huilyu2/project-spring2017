{
 "cells": [
  {
   "cell_type": "code",
   "execution_count": 28,
   "metadata": {
    "collapsed": true
   },
   "outputs": [],
   "source": [
    "import plotly \n",
    "plotly.tools.set_credentials_file(username='yuxiangling0809', api_key='vJxzgz9EZWkJZdHur9A8')"
   ]
  },
  {
   "cell_type": "code",
   "execution_count": 29,
   "metadata": {
    "collapsed": true
   },
   "outputs": [],
   "source": [
    "import plotly \n",
    "plotly.tools.set_config_file(world_readable=True,\n",
    "                             sharing='public')"
   ]
  },
  {
   "cell_type": "code",
   "execution_count": 30,
   "metadata": {
    "collapsed": true
   },
   "outputs": [],
   "source": [
    "import plotly.plotly as py"
   ]
  },
  {
   "cell_type": "code",
   "execution_count": 31,
   "metadata": {
    "collapsed": true
   },
   "outputs": [],
   "source": [
    "from plotly.graph_objs import *"
   ]
  },
  {
   "cell_type": "code",
   "execution_count": 32,
   "metadata": {
    "collapsed": true
   },
   "outputs": [],
   "source": [
    "import pandas as pd"
   ]
  },
  {
   "cell_type": "code",
   "execution_count": 33,
   "metadata": {
    "collapsed": true
   },
   "outputs": [],
   "source": [
    "df = pd.read_csv('/Users/qiqi/DV590/Part2-Q3-data.csv')"
   ]
  },
  {
   "cell_type": "code",
   "execution_count": 34,
   "metadata": {
    "collapsed": false,
    "scrolled": true
   },
   "outputs": [
    {
     "data": {
      "text/html": [
       "<div>\n",
       "<table border=\"1\" class=\"dataframe\">\n",
       "  <thead>\n",
       "    <tr style=\"text-align: right;\">\n",
       "      <th></th>\n",
       "      <th>\"States, z\"</th>\n",
       "      <th>locations</th>\n",
       "      <th>\"States, text\"</th>\n",
       "    </tr>\n",
       "  </thead>\n",
       "  <tbody>\n",
       "    <tr>\n",
       "      <th>0</th>\n",
       "      <td>156750</td>\n",
       "      <td>AL</td>\n",
       "      <td>State: AL&lt;br&gt;Total Awarded Amount: 5743215&lt;br&gt;...</td>\n",
       "    </tr>\n",
       "    <tr>\n",
       "      <th>1</th>\n",
       "      <td>40063</td>\n",
       "      <td>AK</td>\n",
       "      <td>State: AK&lt;br&gt;Total Awarded Amount: 16189749&lt;br...</td>\n",
       "    </tr>\n",
       "    <tr>\n",
       "      <th>2</th>\n",
       "      <td>227358</td>\n",
       "      <td>AZ</td>\n",
       "      <td>State: AZ&lt;br&gt;Total Awarded Amount: 19037687&lt;br...</td>\n",
       "    </tr>\n",
       "    <tr>\n",
       "      <th>3</th>\n",
       "      <td>90319</td>\n",
       "      <td>AR</td>\n",
       "      <td>State: AR&lt;br&gt;Total Awarded Amount: 1965330&lt;br&gt;...</td>\n",
       "    </tr>\n",
       "    <tr>\n",
       "      <th>4</th>\n",
       "      <td>1766693</td>\n",
       "      <td>CA</td>\n",
       "      <td>State: CA&lt;br&gt;Total Awarded Amount: 74663752&lt;br...</td>\n",
       "    </tr>\n",
       "  </tbody>\n",
       "</table>\n",
       "</div>"
      ],
      "text/plain": [
       "   \"States, z\" locations                                     \"States, text\"\n",
       "0       156750        AL  State: AL<br>Total Awarded Amount: 5743215<br>...\n",
       "1        40063        AK  State: AK<br>Total Awarded Amount: 16189749<br...\n",
       "2       227358        AZ  State: AZ<br>Total Awarded Amount: 19037687<br...\n",
       "3        90319        AR  State: AR<br>Total Awarded Amount: 1965330<br>...\n",
       "4      1766693        CA  State: CA<br>Total Awarded Amount: 74663752<br..."
      ]
     },
     "execution_count": 34,
     "metadata": {},
     "output_type": "execute_result"
    }
   ],
   "source": [
    "df.head()"
   ]
  },
  {
   "cell_type": "code",
   "execution_count": 35,
   "metadata": {
    "collapsed": true
   },
   "outputs": [],
   "source": [
    "scl = [[0.0, 'rgb(242,240,247)'],[0.2, 'rgb(218,218,235)'],[0.4, 'rgb(188,189,220)'],\n",
    "            [0.6, 'rgb(158,154,200)'],[0.8, 'rgb(117,107,177)'],[1.0, 'rgb(84,39,143)']]"
   ]
  },
  {
   "cell_type": "code",
   "execution_count": 40,
   "metadata": {
    "collapsed": false
   },
   "outputs": [],
   "source": [
    "data = [ dict(\n",
    "        type='choropleth',\n",
    "        colorscale = scl,\n",
    "        autocolorscale = False,\n",
    "        locations = df['locations'],\n",
    "        z = [156750,40063,227358,90319,1766693,220454,210170,53247,83586,700267,388342,58573,47176,586442,245197,123353,104884,143875,199683,46277,263809,345059,395166,243933,81678,224091,30637,73455,118785,57282,443148,74403,1023433,357168,24622,467392,125243,147535,506505,45663,143585,31380,227505,990054,94475,23539,359273,296403,53453,226325,27454], \n",
    "        locationmode = 'USA-states',\n",
    "       text = [\"State: AL<br>Total Awarded Amount: 5743215<br>GDP(million):   156750\",\n",
    "\"State: AK<br>Total Awarded Amount: 16189749<br>GDP(million): 40063\",\n",
    "\"State: AZ<br>Total Awarded Amount: 19037687<br>GDP(million): 227358\",\n",
    "\"State: AR<br>Total Awarded Amount: 1965330<br>GDP(million): 90319\",\n",
    "\"State: CA<br>Total Awarded Amount: 74663752<br>GDP(million): 1766693\",\n",
    "\"State: CO<br>Total Awarded Amount: 22235728<br>GDP(million): 220454\",\n",
    "\"State: CT<br>Total Awarded Amount: 16501999<br>GDP(million): 210170\",\n",
    "\"State: DE<br>Total Awarded Amount: 3857523<br>GDP(million): 53247\",\n",
    "\"State: DC<br>Total Awarded Amount: 25424106<br>GDP(million): 83586\",\n",
    "\"State: FL<br>Total Awarded Amount: 26600593<br>GDP(million): 700267\",\n",
    "\"State: GA<br>Total Awarded Amount: 11216327<br>GDP(million): 388342\",\n",
    "\"State: HI<br>Total Awarded Amount: 14427899<br>GDP(million): 58573\",\n",
    "\"State: ID<br>Total Awarded Amount: 1961349<br>GDP(million): 47176\",\n",
    "\"State: IL<br>Total Awarded Amount: 68112505<br>GDP(million): 586442\",\n",
    "\"State: IN<br>Total Awarded Amount: 16377153<br>GDP(million): 245197\",\n",
    "\"State: IA<br>Total Awarded Amount: 8493716<br>GDP(million): 123353\",\n",
    "\"State: KS<br>Total Awarded Amount: 5764416<br>GDP(million): 104884\",\n",
    "\"State: KY<br>Total Awarded Amount: 8022942<br>GDP(million): 143875\",\n",
    "\"State: LA<br>Total Awarded Amount: 7978539<br>GDP(million): 199683\",\n",
    "\"State: ME<br>Total Awarded Amount: 11177079<br>GDP(million): 46277\",\n",
    "\"State: MD<br>Total Awarded Amount: 21671260<br>GDP(million): 263809\",\n",
    "\"State: MA<br>Total Awarded Amount: 45976945<br>GDP(million): 345059\",\n",
    "\"State: MI<br>Total Awarded Amount: 28799226<br>GDP(million): 395166\",\n",
    "\"State: MN<br>Total Awarded Amount: 15325162<br>GDP(million): 243933\",\n",
    "\"State: MS<br>Total Awarded Amount: 2787779<br>GDP(million): 81678\",\n",
    "\"State: MO<br>Total Awarded Amount: 14911587<br>GDP(million): 224091\",\n",
    "\"State: MT<br>Total Awarded Amount: 10424194<br>GDP(million): 30637\",\n",
    "\"State: NE<br>Total Awarded Amount: 6600356<br>GDP(million): 73455\",\n",
    "\"State: NV<br>Total Awarded Amount: 3677624<br>GDP(million): 118785\",\n",
    "\"State: NH<br>Total Awarded Amount: 4797223<br>GDP(million): 57282\",\n",
    "\"State: NJ<br>Total Awarded Amount: 11475362<br>GDP(million): 443148\",\n",
    "\"State: NM<br>Total Awarded Amount: 10640574<br>GDP(million): 74403\",\n",
    "\"State: NY<br>Total Awarded Amount: 105860170<br>GDP(million): 1023433\",\n",
    "\"State: NC<br>Total Awarded Amount: 29992038<br>GDP(million): 357168\",\n",
    "\"State: ND<br>Total Awarded Amount: 3071608<br>GDP(million): 24622\",\n",
    "\"State: OH<br>Total Awarded Amount: 22015009<br>GDP(million): 467392\",\n",
    "\"State: OK<br>Total Awarded Amount: 12405823<br>GDP(million): 125243\",\n",
    "\"State: OR<br>Total Awarded Amount: 9556529<br>GDP(million): 147535\",\n",
    "\"State: PA<br>Total Awarded Amount: 59575053<br>GDP(million): 506505\",\n",
    "\"State: RI<br>Total Awarded Amount: 4751919<br>GDP(million): 45663\",\n",
    "\"State: SC<br>Total Awarded Amount: 9063478<br>GDP(million): 143585\",\n",
    "\"State: SD<br>Total Awarded Amount: 3596551<br>GDP(million): 31380\",\n",
    "\"State: TN<br>Total Awarded Amount: 18083590<br>GDP(million): 227505\",\n",
    "\"State: TX<br>Total Awarded Amount: 48252344<br>GDP(million): 990054\",\n",
    "\"State: UT<br>Total Awarded Amount: 6884351<br>GDP(million): 94475\",\n",
    "\"State: VT<br>Total Awarded Amount: 6381133<br>GDP(million): 23539\",\n",
    "\"State: VA<br>Total Awarded Amount: 18068081<br>GDP(million): 359273\",\n",
    "\"State: WA<br>Total Awarded Amount: 23476750<br>GDP(million): 296403\",\n",
    "\"State: WV<br>Total Awarded Amount: 927680<br>GDP(million): 53453\",\n",
    "\"State: WI<br>Total Awarded Amount: 17075827<br>GDP(million): 226325\",\n",
    "\"State: WY<br>Total Awarded Amount: 2210361<br>GDP(million): 27454\"],\n",
    "        marker = dict(\n",
    "            line = dict (\n",
    "                color = 'rgb(255,255,255)',\n",
    "                width = 2\n",
    "            ) ),\n",
    "        colorbar = dict(\n",
    "            title = \"GDP(million)\")\n",
    "        ) ]"
   ]
  },
  {
   "cell_type": "code",
   "execution_count": 41,
   "metadata": {
    "collapsed": true
   },
   "outputs": [],
   "source": [
    "layout = dict(\n",
    "        title = '2005 US GDP Distribution<br>(Compared with total awarded amount)',\n",
    "        geo = dict(\n",
    "            scope='usa',\n",
    "            projection=dict( type='albers usa' ),\n",
    "            showlakes = True,\n",
    "            lakecolor = 'rgb(255, 255, 255)'),\n",
    "             )"
   ]
  },
  {
   "cell_type": "code",
   "execution_count": 42,
   "metadata": {
    "collapsed": true
   },
   "outputs": [],
   "source": [
    "fig = dict( data=data, layout=layout )"
   ]
  },
  {
   "cell_type": "code",
   "execution_count": 43,
   "metadata": {
    "collapsed": false
   },
   "outputs": [
    {
     "data": {
      "text/html": [
       "<iframe id=\"igraph\" scrolling=\"no\" style=\"border:none;\" seamless=\"seamless\" src=\"https://plot.ly/~yuxiangling0809/19.embed\" height=\"525px\" width=\"100%\"></iframe>"
      ],
      "text/plain": [
       "<plotly.tools.PlotlyDisplay object>"
      ]
     },
     "execution_count": 43,
     "metadata": {},
     "output_type": "execute_result"
    }
   ],
   "source": [
    "py.iplot(fig)"
   ]
  },
  {
   "cell_type": "code",
   "execution_count": null,
   "metadata": {
    "collapsed": true
   },
   "outputs": [],
   "source": []
  }
 ],
 "metadata": {
  "kernelspec": {
   "display_name": "Python 2",
   "language": "python",
   "name": "python2"
  },
  "language_info": {
   "codemirror_mode": {
    "name": "ipython",
    "version": 2
   },
   "file_extension": ".py",
   "mimetype": "text/x-python",
   "name": "python",
   "nbconvert_exporter": "python",
   "pygments_lexer": "ipython2",
   "version": "2.7.13"
  }
 },
 "nbformat": 4,
 "nbformat_minor": 2
}
