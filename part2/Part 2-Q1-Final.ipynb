{
 "cells": [
  {
   "cell_type": "code",
   "execution_count": 1,
   "metadata": {
    "collapsed": false
   },
   "outputs": [],
   "source": [
    "%matplotlib inline"
   ]
  },
  {
   "cell_type": "code",
   "execution_count": 2,
   "metadata": {
    "collapsed": true
   },
   "outputs": [],
   "source": [
    "import numpy as np\n",
    "import matplotlib.pyplot as plt\n",
    "import csv"
   ]
  },
  {
   "cell_type": "code",
   "execution_count": 3,
   "metadata": {
    "collapsed": false
   },
   "outputs": [],
   "source": [
    "fn=\"/Users/qiqi/Desktop/Administrative_Discretionary_Grants 1996-2014_.csv\"\n",
    "with open(fn, \"r\") as f:\n",
    "    reader = csv.reader(f)\n",
    "    header = next(reader)\n",
    "    data = {}\n",
    "    for column in header:\n",
    "        data[column] = []\n",
    "    for row in reader:\n",
    "        for column, value in zip(header, row):\n",
    "            data[column].append(value)"
   ]
  },
  {
   "cell_type": "code",
   "execution_count": 4,
   "metadata": {
    "collapsed": true
   },
   "outputs": [],
   "source": [
    "class Dataset:\n",
    "    def __init__(self, data):\n",
    "        self.data = data.copy()\n",
    "        \n",
    "    def convert(self, column, dtype):\n",
    "        self.data[column] = np.array(self.data[column], dtype=dtype)\n",
    "        \n",
    "    def columns(self):\n",
    "        return self.data.keys()\n",
    "    \n",
    "    def filter_eq(self, column, value):\n",
    "        good = (self.data[column] == value)\n",
    "        new_data = {}\n",
    "        for column in self.data:\n",
    "            new_data[column] = self.data[column][good]\n",
    "        return Dataset(new_data)\n",
    "    \n",
    "    def filter_lt(self, column, value):\n",
    "        good = (self.data[column] < value)\n",
    "        new_data = {}\n",
    "        for column in self.data:\n",
    "            new_data[column] = self.data[column][good]\n",
    "        return Dataset(new_data)\n",
    "    \n",
    "    def filter_gt(self, column, value):\n",
    "        good = (self.data[column] > value)\n",
    "        new_data = {}\n",
    "        for column in self.data:\n",
    "            new_data[column] = self.data[column][good]\n",
    "        return Dataset(new_data)\n",
    "    \n",
    "    def filter_ne(self, column, value):\n",
    "        good = (self.data[column] != value)\n",
    "        new_data = {}\n",
    "        for column in self.data:\n",
    "            new_data[column] = self.data[column][good]\n",
    "        return Dataset(new_data)\n",
    "    \n",
    "    def size(self):\n",
    "        for key in self.data:\n",
    "            return self.data[key].size\n",
    "\n",
    "    def split(self, column):\n",
    "        new_datasets = {}\n",
    "        for split_value in np.unique(self.data[column]):\n",
    "            new_datasets[split_value] = self.filter_eq(column, split_value)\n",
    "        return new_datasets\n",
    "\n",
    "    def stats(self):\n",
    "        statistics = {}\n",
    "        for key in self.data:\n",
    "            if self.data[key].dtype not in (\"float\", \"int\"):\n",
    "                continue\n",
    "            values = self.data[key]\n",
    "            statistics[key] = (values.min(), values.max(), values.std(), values.mean())\n",
    "        return statistics\n",
    "    \n",
    "    def compare(self, other):\n",
    "        stats1 = self.stats()\n",
    "        stats2 = other.stats()\n",
    "        for column in self.columns():\n",
    "            if column not in stats1: continue\n",
    "            print(\"Column '{0:25s}'\".format(column))\n",
    "            for s1, s2 in zip(stats1[column], stats2[column]):\n",
    "                print(\"    {0} vs {1}\".format(s1, s2))\n",
    "    \n",
    "    def plot(self, x_column, y_column):\n",
    "        plt.plot(self.data[x_column], self.data[y_column], '.')"
   ]
  },
  {
   "cell_type": "code",
   "execution_count": 5,
   "metadata": {
    "collapsed": true
   },
   "outputs": [],
   "source": [
    "trees = Dataset(data)\n",
    "value_types = {'Fiscal Year': 'int'}\n",
    "for v in trees.columns():\n",
    "    trees.convert(v, value_types.get(v, \"str\"))"
   ]
  },
  {
   "cell_type": "code",
   "execution_count": 6,
   "metadata": {
    "collapsed": false
   },
   "outputs": [],
   "source": [
    "data1=trees.filter_eq(\"Program Type\",\"IA\")\n",
    "data2=trees.filter_eq(\"Program Type\",\"IC\")\n",
    "data3=trees.filter_eq(\"Program Type\",\"IG\")\n",
    "data4=trees.filter_eq(\"Program Type\",\"IL\")\n",
    "data5=trees.filter_eq(\"Program Type\",\"IM\")\n",
    "data6=trees.filter_eq(\"Program Type\",\"IS\")\n",
    "data7=trees.filter_eq(\"Program Type\",\"LE\")\n",
    "data8=trees.filter_eq(\"Program Type\",\"LG\")\n",
    "data9=trees.filter_eq(\"Program Type\",\"LI\")\n",
    "data10=trees.filter_eq(\"Program Type\",\"LL\")\n",
    "data11=trees.filter_eq(\"Program Type\",\"LT\")\n",
    "data12=trees.filter_eq(\"Program Type\",\"MA\")\n",
    "data13=trees.filter_eq(\"Program Type\",\"MG\")\n",
    "data14=trees.filter_eq(\"Program Type\",\"MH\")\n",
    "data15=trees.filter_eq(\"Program Type\",\"ML\")\n",
    "data16=trees.filter_eq(\"Program Type\",\"MN\")\n",
    "data17=trees.filter_eq(\"Program Type\",\"MP\")\n",
    "data18=trees.filter_eq(\"Program Type\",\"NC\")\n",
    "data19=trees.filter_eq(\"Program Type\",\"ND\")\n",
    "data20=trees.filter_eq(\"Program Type\",\"NE\")\n",
    "data21=trees.filter_eq(\"Program Type\",\"NG\")\n",
    "data22=trees.filter_eq(\"Program Type\",\"NL\")\n",
    "data23=trees.filter_eq(\"Program Type\",\"NO\")\n",
    "data24=trees.filter_eq(\"Program Type\",\"NP\")\n",
    "data25=trees.filter_eq(\"Program Type\",\"NR\")\n",
    "data26=trees.filter_eq(\"Program Type\",\"RE\")\n",
    "data27=trees.filter_eq(\"Program Type\",\"SP\")\n",
    "data28=trees.filter_eq(\"Program Type\",\"ST\")\n"
   ]
  },
  {
   "cell_type": "code",
   "execution_count": 7,
   "metadata": {
    "collapsed": true
   },
   "outputs": [],
   "source": [
    "trunk=[]\n",
    "trunk.append(len(data1.data[\"Program Type\"]) )\n",
    "trunk.append(len(data2.data[\"Program Type\"]) )\n",
    "trunk.append(len(data3.data[\"Program Type\"]) )\n",
    "trunk.append(len(data4.data[\"Program Type\"]) )\n",
    "trunk.append(len(data5.data[\"Program Type\"]) )\n",
    "trunk.append(len(data6.data[\"Program Type\"]) )\n",
    "trunk.append(len(data7.data[\"Program Type\"]) )\n",
    "trunk.append(len(data8.data[\"Program Type\"]) )\n",
    "trunk.append(len(data9.data[\"Program Type\"]) )\n",
    "trunk.append(len(data10.data[\"Program Type\"]) )\n",
    "trunk.append(len(data11.data[\"Program Type\"]) )\n",
    "trunk.append(len(data12.data[\"Program Type\"]) )\n",
    "trunk.append(len(data13.data[\"Program Type\"]) )\n",
    "trunk.append(len(data14.data[\"Program Type\"]) )\n",
    "trunk.append(len(data15.data[\"Program Type\"]) )\n",
    "trunk.append(len(data16.data[\"Program Type\"]) )\n",
    "trunk.append(len(data17.data[\"Program Type\"]) )\n",
    "trunk.append(len(data18.data[\"Program Type\"]) )\n",
    "trunk.append(len(data19.data[\"Program Type\"]) )\n",
    "trunk.append(len(data20.data[\"Program Type\"]) )\n",
    "trunk.append(len(data21.data[\"Program Type\"]) )\n",
    "trunk.append(len(data22.data[\"Program Type\"]) )\n",
    "trunk.append(len(data23.data[\"Program Type\"]) )\n",
    "trunk.append(len(data24.data[\"Program Type\"]) )\n",
    "trunk.append(len(data25.data[\"Program Type\"]) )\n",
    "trunk.append(len(data26.data[\"Program Type\"]) )\n",
    "trunk.append(len(data27.data[\"Program Type\"]) )\n",
    "trunk.append(len(data28.data[\"Program Type\"]) )"
   ]
  },
  {
   "cell_type": "code",
   "execution_count": 8,
   "metadata": {
    "collapsed": false
   },
   "outputs": [
    {
     "data": {
      "text/plain": [
       "[1397,\n",
       " 1121,\n",
       " 1299,\n",
       " 57,\n",
       " 1731,\n",
       " 102,\n",
       " 51,\n",
       " 856,\n",
       " 846,\n",
       " 97,\n",
       " 196,\n",
       " 1871,\n",
       " 39,\n",
       " 103,\n",
       " 168,\n",
       " 240,\n",
       " 64,\n",
       " 10,\n",
       " 29,\n",
       " 23,\n",
       " 2713,\n",
       " 29,\n",
       " 13,\n",
       " 13,\n",
       " 17,\n",
       " 421,\n",
       " 17,\n",
       " 71]"
      ]
     },
     "execution_count": 8,
     "metadata": {},
     "output_type": "execute_result"
    }
   ],
   "source": [
    "trunk"
   ]
  },
  {
   "cell_type": "code",
   "execution_count": 9,
   "metadata": {
    "collapsed": true
   },
   "outputs": [],
   "source": [
    "trunk1=sorted(trunk,reverse=True)"
   ]
  },
  {
   "cell_type": "code",
   "execution_count": 10,
   "metadata": {
    "collapsed": false
   },
   "outputs": [
    {
     "data": {
      "text/plain": [
       "[2713,\n",
       " 1871,\n",
       " 1731,\n",
       " 1397,\n",
       " 1299,\n",
       " 1121,\n",
       " 856,\n",
       " 846,\n",
       " 421,\n",
       " 240,\n",
       " 196,\n",
       " 168,\n",
       " 103,\n",
       " 102,\n",
       " 97,\n",
       " 71,\n",
       " 64,\n",
       " 57,\n",
       " 51,\n",
       " 39,\n",
       " 29,\n",
       " 29,\n",
       " 23,\n",
       " 17,\n",
       " 17,\n",
       " 13,\n",
       " 13,\n",
       " 10]"
      ]
     },
     "execution_count": 10,
     "metadata": {},
     "output_type": "execute_result"
    }
   ],
   "source": [
    "trunk1"
   ]
  },
  {
   "cell_type": "code",
   "execution_count": 11,
   "metadata": {
    "collapsed": false
   },
   "outputs": [],
   "source": [
    "x_label=[\"IA\",\"IC\",\"IG\",\"IL\",\"IM\",\"IS\",\"LE\",\"LG\",\"LI\",\"LL\",\"LT\",\"MA\",\n",
    "         \"MG\",\"MH\",\"ML\",\"MN\",\"MP\",\"NC\",\"ND\",\"NE\",\"NG\",\"NL\",\"NO\",\"NP\",\"NR\",\"RE\",\"SP\",\"ST\"]"
   ]
  },
  {
   "cell_type": "code",
   "execution_count": 12,
   "metadata": {
    "collapsed": false
   },
   "outputs": [
    {
     "data": {
      "text/plain": [
       "list"
      ]
     },
     "execution_count": 12,
     "metadata": {},
     "output_type": "execute_result"
    }
   ],
   "source": [
    "type(x_label)"
   ]
  },
  {
   "cell_type": "code",
   "execution_count": 13,
   "metadata": {
    "collapsed": true
   },
   "outputs": [],
   "source": [
    "x_number=[]\n",
    "x_number=range(1,29)"
   ]
  },
  {
   "cell_type": "code",
   "execution_count": 14,
   "metadata": {
    "collapsed": false
   },
   "outputs": [
    {
     "data": {
      "text/plain": [
       "[1,\n",
       " 2,\n",
       " 3,\n",
       " 4,\n",
       " 5,\n",
       " 6,\n",
       " 7,\n",
       " 8,\n",
       " 9,\n",
       " 10,\n",
       " 11,\n",
       " 12,\n",
       " 13,\n",
       " 14,\n",
       " 15,\n",
       " 16,\n",
       " 17,\n",
       " 18,\n",
       " 19,\n",
       " 20,\n",
       " 21,\n",
       " 22,\n",
       " 23,\n",
       " 24,\n",
       " 25,\n",
       " 26,\n",
       " 27,\n",
       " 28]"
      ]
     },
     "execution_count": 14,
     "metadata": {},
     "output_type": "execute_result"
    }
   ],
   "source": [
    "x_number"
   ]
  },
  {
   "cell_type": "code",
   "execution_count": 15,
   "metadata": {
    "collapsed": true
   },
   "outputs": [],
   "source": [
    "def autolabel(rects):\n",
    "    for rect in rects:\n",
    "        height = rect.get_height()\n",
    "        plt.text(rect.get_x()+rect.get_width()/6., 1.01*height, '%s' % int(height),fontsize=14)"
   ]
  },
  {
   "cell_type": "code",
   "execution_count": 17,
   "metadata": {
    "collapsed": false
   },
   "outputs": [
    {
     "data": {
      "image/png": "[encoded data removed]",
      "text/plain": [
       "<matplotlib.figure.Figure at 0x114280bd0>"
      ]
     },
     "metadata": {},
     "output_type": "display_data"
    }
   ],
   "source": [
    "plt.rcParams[\"figure.figsize\"] = (20, 20)\n",
    "rect=plt.bar(x_number,trunk1,align=\"center\",width=0.8,alpha=0.5)\n",
    "plt.xticks(x_number,x_label)\n",
    "plt.rc('xtick', labelsize = 15)\n",
    "plt.rc('ytick', labelsize = 15) \n",
    "plt.ylabel('number of grants',fontsize = 20)\n",
    "plt.xlabel('Grants Program type',fontsize=20)\n",
    "plt.title('Number of Different Grants Program Types',fontsize = 20)\n",
    "autolabel(rect)\n",
    "plt.show()"
   ]
  },
  {
   "cell_type": "code",
   "execution_count": null,
   "metadata": {
    "collapsed": true
   },
   "outputs": [],
   "source": []
  }
 ],
 "metadata": {
  "kernelspec": {
   "display_name": "Python 2",
   "language": "python",
   "name": "python2"
  },
  "language_info": {
   "codemirror_mode": {
    "name": "ipython",
    "version": 2
   },
   "file_extension": ".py",
   "mimetype": "text/x-python",
   "name": "python",
   "nbconvert_exporter": "python",
   "pygments_lexer": "ipython2",
   "version": "2.7.13"
  }
 },
 "nbformat": 4,
 "nbformat_minor": 2
}
